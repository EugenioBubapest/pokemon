{
 "cells": [
  {
   "cell_type": "markdown",
   "id": "3237dffc-dad0-494d-aa7b-12cb1b7742a3",
   "metadata": {},
   "source": [
    "# PokeApi Project"
   ]
  },
  {
   "cell_type": "code",
   "execution_count": 30,
   "id": "8794aa84-a6bd-4bfc-846d-b79442970859",
   "metadata": {
    "tags": []
   },
   "outputs": [],
   "source": [
    "import pokepy\n",
    "import requests\n",
    "import pprint as pp"
   ]
  },
  {
   "cell_type": "code",
   "execution_count": 4,
   "id": "e622479e-6be8-42b8-865d-fd2aff9d4dd4",
   "metadata": {
    "tags": []
   },
   "outputs": [],
   "source": [
    "client = pokepy.V2Client()"
   ]
  },
  {
   "cell_type": "code",
   "execution_count": 10,
   "id": "f6e2a7a9-42f4-4708-b7f9-0edb3bcf3218",
   "metadata": {
    "tags": []
   },
   "outputs": [],
   "source": [
    "pikachu = client.get_pokemon(25)"
   ]
  },
  {
   "cell_type": "code",
   "execution_count": 26,
   "id": "d1b1e492-6a8e-4a97-be8d-065b7884a606",
   "metadata": {
    "tags": []
   },
   "outputs": [
    {
     "data": {
      "text/plain": [
       "'pikachu'"
      ]
     },
     "execution_count": 26,
     "metadata": {},
     "output_type": "execute_result"
    }
   ],
   "source": [
    "pikachu[0].name"
   ]
  },
  {
   "cell_type": "code",
   "execution_count": 27,
   "id": "7ff29974-b6bf-4f7f-84ff-6f4f9ae5f53b",
   "metadata": {
    "tags": []
   },
   "outputs": [
    {
     "data": {
      "text/plain": [
       "60"
      ]
     },
     "execution_count": 27,
     "metadata": {},
     "output_type": "execute_result"
    }
   ],
   "source": [
    "pikachu[0].weight"
   ]
  },
  {
   "cell_type": "code",
   "execution_count": 29,
   "id": "31a7228a-f455-4199-83f1-ca63e7ae5744",
   "metadata": {
    "tags": []
   },
   "outputs": [
    {
     "data": {
      "text/plain": [
       "4"
      ]
     },
     "execution_count": 29,
     "metadata": {},
     "output_type": "execute_result"
    }
   ],
   "source": [
    "pikachu[0].height"
   ]
  },
  {
   "cell_type": "markdown",
   "id": "91037019-521b-423c-b5ed-676bbb9c80d2",
   "metadata": {},
   "source": [
    "I do not want to get this data one by one\n",
    "🫠"
   ]
  },
  {
   "cell_type": "markdown",
   "id": "e3a4cd0e-ed02-482d-86b6-5db02db5aac9",
   "metadata": {},
   "source": [
    "Let's do our own code to get this data:"
   ]
  },
  {
   "cell_type": "code",
   "execution_count": 45,
   "id": "ce94f013-f684-4836-aa13-7f7240ff218c",
   "metadata": {
    "tags": []
   },
   "outputs": [],
   "source": [
    "url = \"https://pokeapi.co/api/v2/pokemon?limit=1025&offset=0\"\n",
    "\n",
    "response = requests.get(url)"
   ]
  },
  {
   "cell_type": "code",
   "execution_count": 46,
   "id": "7e7c374b-4008-4398-b5ca-79317729a986",
   "metadata": {
    "tags": []
   },
   "outputs": [],
   "source": [
    "pokemons = []\n",
    "for i in response.json()['results']:\n",
    "    pokemons.append(i['name'])"
   ]
  },
  {
   "cell_type": "code",
   "execution_count": 48,
   "id": "5ed137e6-3608-4b89-bfac-2c9b26aa6fc2",
   "metadata": {
    "tags": []
   },
   "outputs": [
    {
     "data": {
      "text/plain": [
       "1025"
      ]
     },
     "execution_count": 48,
     "metadata": {},
     "output_type": "execute_result"
    }
   ],
   "source": [
    "len(pokemons)"
   ]
  },
  {
   "cell_type": "markdown",
   "id": "09544444-c40a-4c06-b974-39b6021c422b",
   "metadata": {},
   "source": [
    "I could create a table with autoincrement id and put these pokemon names there. \n",
    "\n",
    "Maybe weight, height, generation, base stats...\n",
    "\n",
    "Nevertheless, I do not want to put everything in the same table xD"
   ]
  },
  {
   "cell_type": "code",
   "execution_count": 54,
   "id": "5a911a77-0655-418a-b697-12af95d30ba9",
   "metadata": {
    "tags": []
   },
   "outputs": [
    {
     "data": {
      "text/plain": [
       "['bulbasaur',\n",
       " 'ivysaur',\n",
       " 'venusaur',\n",
       " 'charmander',\n",
       " 'charmeleon',\n",
       " 'charizard',\n",
       " 'squirtle',\n",
       " 'wartortle',\n",
       " 'blastoise',\n",
       " 'caterpie']"
      ]
     },
     "execution_count": 54,
     "metadata": {},
     "output_type": "execute_result"
    }
   ],
   "source": [
    "pokemons[0:10]"
   ]
  },
  {
   "cell_type": "markdown",
   "id": "bb7a76e4-e381-4ed4-bfeb-639f23e92621",
   "metadata": {},
   "source": [
    "I can get the url with all the data for each pokemon:"
   ]
  },
  {
   "cell_type": "code",
   "execution_count": 57,
   "id": "e06bc2b0-ee36-4bfc-854a-3730d6e42036",
   "metadata": {
    "tags": []
   },
   "outputs": [],
   "source": [
    "url_data = []\n",
    "for i in response.json()['results']:\n",
    "    url_data.append(i['url'])"
   ]
  },
  {
   "cell_type": "code",
   "execution_count": 64,
   "id": "dc31bd39-37f6-4e39-b3cb-c370a3e1ce6e",
   "metadata": {
    "tags": []
   },
   "outputs": [],
   "source": [
    "example = requests.get(url_data[0]).json()"
   ]
  },
  {
   "cell_type": "markdown",
   "id": "0c154afe-bd5b-4221-ac10-1a8cb378ac1a",
   "metadata": {},
   "source": [
    "This are the keys of the dictionary for bulbasaur:"
   ]
  },
  {
   "cell_type": "code",
   "execution_count": 65,
   "id": "cc8c6764-4a45-4990-b130-aef85808f054",
   "metadata": {
    "tags": []
   },
   "outputs": [
    {
     "data": {
      "text/plain": [
       "dict_keys(['abilities', 'base_experience', 'forms', 'game_indices', 'height', 'held_items', 'id', 'is_default', 'location_area_encounters', 'moves', 'name', 'order', 'past_abilities', 'past_types', 'species', 'sprites', 'stats', 'types', 'weight'])"
      ]
     },
     "execution_count": 65,
     "metadata": {},
     "output_type": "execute_result"
    }
   ],
   "source": [
    "example.keys()"
   ]
  },
  {
   "cell_type": "markdown",
   "id": "b9c89e03-6ab5-4a52-a32e-67e3229b9e65",
   "metadata": {},
   "source": [
    "I could retrieve the base stats from here:"
   ]
  },
  {
   "cell_type": "code",
   "execution_count": 66,
   "id": "18c6e7a0-1de5-4a05-b415-c5e522f81051",
   "metadata": {
    "tags": []
   },
   "outputs": [
    {
     "data": {
      "text/plain": [
       "[{'base_stat': 45,\n",
       "  'effort': 0,\n",
       "  'stat': {'name': 'hp', 'url': 'https://pokeapi.co/api/v2/stat/1/'}},\n",
       " {'base_stat': 49,\n",
       "  'effort': 0,\n",
       "  'stat': {'name': 'attack', 'url': 'https://pokeapi.co/api/v2/stat/2/'}},\n",
       " {'base_stat': 49,\n",
       "  'effort': 0,\n",
       "  'stat': {'name': 'defense', 'url': 'https://pokeapi.co/api/v2/stat/3/'}},\n",
       " {'base_stat': 65,\n",
       "  'effort': 1,\n",
       "  'stat': {'name': 'special-attack',\n",
       "   'url': 'https://pokeapi.co/api/v2/stat/4/'}},\n",
       " {'base_stat': 65,\n",
       "  'effort': 0,\n",
       "  'stat': {'name': 'special-defense',\n",
       "   'url': 'https://pokeapi.co/api/v2/stat/5/'}},\n",
       " {'base_stat': 45,\n",
       "  'effort': 0,\n",
       "  'stat': {'name': 'speed', 'url': 'https://pokeapi.co/api/v2/stat/6/'}}]"
      ]
     },
     "execution_count": 66,
     "metadata": {},
     "output_type": "execute_result"
    }
   ],
   "source": [
    "example['stats']"
   ]
  },
  {
   "cell_type": "markdown",
   "id": "d5a3ad2e-19e0-47c1-ad17-c678e101f4da",
   "metadata": {},
   "source": [
    "- abilities\n",
    "- forms \n",
    "- height\n",
    "- weight\n",
    "- species\n",
    "- sprites\n",
    "- types"
   ]
  },
  {
   "cell_type": "code",
   "execution_count": null,
   "id": "18520688-e33e-41d2-9363-9ecb82607a48",
   "metadata": {},
   "outputs": [],
   "source": []
  },
  {
   "cell_type": "code",
   "execution_count": null,
   "id": "b3047c20-a838-4f95-8272-91dc8347a796",
   "metadata": {},
   "outputs": [],
   "source": []
  },
  {
   "cell_type": "code",
   "execution_count": null,
   "id": "38c40636-6893-40a2-b798-67e5c3ec5881",
   "metadata": {},
   "outputs": [],
   "source": []
  },
  {
   "cell_type": "code",
   "execution_count": null,
   "id": "ff204108-13b3-47a6-8961-a1aadf0b024e",
   "metadata": {},
   "outputs": [],
   "source": []
  },
  {
   "cell_type": "markdown",
   "id": "2b56ea9c-19c2-4192-a432-2f6076e0fc0a",
   "metadata": {},
   "source": [
    "I have a resource for location_area_encounters.\n",
    "\n",
    "I could have a table with Id, and an array with the location areas, or maybe it would be better the other way around: locations and which pokémons you could find there.\n",
    "\n",
    "🤔"
   ]
  },
  {
   "cell_type": "code",
   "execution_count": 70,
   "id": "22a96fd4-fbf0-48d2-9073-9e14b4c0a4ec",
   "metadata": {
    "tags": []
   },
   "outputs": [],
   "source": [
    "location_example = requests.get(example['location_area_encounters']).json()"
   ]
  },
  {
   "cell_type": "markdown",
   "id": "3c05e979-6aed-41f7-8598-eaf6dea949e9",
   "metadata": {},
   "source": [
    "You can find bulbasaur in these locations:"
   ]
  },
  {
   "cell_type": "code",
   "execution_count": 76,
   "id": "9117f6c7-1062-497b-bf93-a4f1fb610d5a",
   "metadata": {
    "tags": []
   },
   "outputs": [
    {
     "data": {
      "text/plain": [
       "['cerulean-city-area', 'pallet-town-area', 'lumiose-city-area']"
      ]
     },
     "execution_count": 76,
     "metadata": {},
     "output_type": "execute_result"
    }
   ],
   "source": [
    "[l['location_area']['name'] for l in location_example]"
   ]
  },
  {
   "cell_type": "code",
   "execution_count": 87,
   "id": "f764f641-ec2e-4209-8262-a25ee699a8de",
   "metadata": {
    "tags": []
   },
   "outputs": [
    {
     "data": {
      "text/plain": [
       "'gift'"
      ]
     },
     "execution_count": 87,
     "metadata": {},
     "output_type": "execute_result"
    }
   ],
   "source": [
    "location_example[0]['version_details'][0]['encounter_details'][0]['method']['name']"
   ]
  },
  {
   "cell_type": "markdown",
   "id": "09341aa2-68af-445d-8c44-e6a8d7e2f31a",
   "metadata": {},
   "source": [
    "I have the sensation these gift method is because it's a starting pokemon. Let's check another one, e.g. Caterpie:"
   ]
  },
  {
   "cell_type": "code",
   "execution_count": 94,
   "id": "a709495e-6e61-4f6f-b461-22a9fa0023a1",
   "metadata": {
    "tags": []
   },
   "outputs": [],
   "source": [
    "example_2 = requests.get(url_data[9]).json()"
   ]
  },
  {
   "cell_type": "code",
   "execution_count": 98,
   "id": "2a6e8c35-87ef-4fd5-8cac-9939b9ecdc05",
   "metadata": {
    "tags": []
   },
   "outputs": [],
   "source": [
    "location_example_2 = requests.get(example_2['location_area_encounters']).json()"
   ]
  },
  {
   "cell_type": "code",
   "execution_count": 99,
   "id": "3c762203-9243-47ab-a7ee-bfe013d324cf",
   "metadata": {
    "tags": []
   },
   "outputs": [
    {
     "data": {
      "text/plain": [
       "'walk'"
      ]
     },
     "execution_count": 99,
     "metadata": {},
     "output_type": "execute_result"
    }
   ],
   "source": [
    "location_example_2[0]['version_details'][0]['encounter_details'][0]['method']['name']"
   ]
  },
  {
   "cell_type": "markdown",
   "id": "be63a35b-0536-4c5b-beb2-cf2fc15b52e3",
   "metadata": {},
   "source": [
    "Bingo."
   ]
  },
  {
   "cell_type": "markdown",
   "id": "176549b7-d63d-4960-83c1-50d29bc52900",
   "metadata": {},
   "source": [
    "So this table could be, pokémon, location and method. Maybe a dictionary of locations and methods will be worthy."
   ]
  },
  {
   "cell_type": "code",
   "execution_count": null,
   "id": "db5c9a60-e195-4005-8e84-8db3679af0a9",
   "metadata": {},
   "outputs": [],
   "source": []
  }
 ],
 "metadata": {
  "kernelspec": {
   "display_name": "Python 3 (ipykernel)",
   "language": "python",
   "name": "python3"
  },
  "language_info": {
   "codemirror_mode": {
    "name": "ipython",
    "version": 3
   },
   "file_extension": ".py",
   "mimetype": "text/x-python",
   "name": "python",
   "nbconvert_exporter": "python",
   "pygments_lexer": "ipython3",
   "version": "3.11.5"
  }
 },
 "nbformat": 4,
 "nbformat_minor": 5
}
